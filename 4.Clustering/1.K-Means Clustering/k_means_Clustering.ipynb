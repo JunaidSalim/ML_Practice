{
 "cells": [
  {
   "cell_type": "markdown",
   "metadata": {
    "id": "z_aTfShKX1LU"
   },
   "source": [
    "# K-Means Clustering"
   ]
  },
  {
   "cell_type": "markdown",
   "metadata": {
    "id": "7sLub91-X52p"
   },
   "source": [
    "## Importing the libraries"
   ]
  },
  {
   "cell_type": "code",
   "execution_count": 1,
   "metadata": {
    "id": "l_WeMVPnXbAN"
   },
   "outputs": [],
   "source": [
    "import pandas as pd\n",
    "import matplotlib.pyplot as plt"
   ]
  },
  {
   "cell_type": "markdown",
   "metadata": {
    "id": "lCLtJyeYYN92"
   },
   "source": [
    "## Importing the dataset"
   ]
  },
  {
   "cell_type": "code",
   "execution_count": 3,
   "metadata": {
    "id": "Gyrals1NYNPm"
   },
   "outputs": [],
   "source": [
    "dataset = pd.read_csv('Dataset.csv')"
   ]
  },
  {
   "cell_type": "code",
   "execution_count": 4,
   "metadata": {},
   "outputs": [
    {
     "data": {
      "text/html": [
       "<div>\n",
       "<style scoped>\n",
       "    .dataframe tbody tr th:only-of-type {\n",
       "        vertical-align: middle;\n",
       "    }\n",
       "\n",
       "    .dataframe tbody tr th {\n",
       "        vertical-align: top;\n",
       "    }\n",
       "\n",
       "    .dataframe thead th {\n",
       "        text-align: right;\n",
       "    }\n",
       "</style>\n",
       "<table border=\"1\" class=\"dataframe\">\n",
       "  <thead>\n",
       "    <tr style=\"text-align: right;\">\n",
       "      <th></th>\n",
       "      <th>Sr No.</th>\n",
       "      <th>Year</th>\n",
       "      <th>Region</th>\n",
       "      <th>Category</th>\n",
       "      <th>Motor Cycles</th>\n",
       "      <th>Scooters</th>\n",
       "      <th>Moped</th>\n",
       "      <th>Cars</th>\n",
       "      <th>Jeeps</th>\n",
       "      <th>Stn. Wagons</th>\n",
       "      <th>...</th>\n",
       "      <th>Private Service Vehicles</th>\n",
       "      <th>Ambulances</th>\n",
       "      <th>Articulated/Multi.</th>\n",
       "      <th>Trucks &amp; Lorries</th>\n",
       "      <th>Tanker</th>\n",
       "      <th>Delivery Van (4 wheelers)</th>\n",
       "      <th>Delivery Van (3 wheelers)</th>\n",
       "      <th>Tractors</th>\n",
       "      <th>Trailors</th>\n",
       "      <th>Others</th>\n",
       "    </tr>\n",
       "  </thead>\n",
       "  <tbody>\n",
       "    <tr>\n",
       "      <th>0</th>\n",
       "      <td>1</td>\n",
       "      <td>2000-2001</td>\n",
       "      <td>Greater Mumbai</td>\n",
       "      <td>Mumbai(C)</td>\n",
       "      <td>84289.0</td>\n",
       "      <td>62444</td>\n",
       "      <td>7289</td>\n",
       "      <td>164758</td>\n",
       "      <td>12727</td>\n",
       "      <td>2705</td>\n",
       "      <td>...</td>\n",
       "      <td>829</td>\n",
       "      <td>902</td>\n",
       "      <td>0</td>\n",
       "      <td>9022</td>\n",
       "      <td>1214</td>\n",
       "      <td>9329</td>\n",
       "      <td>4079</td>\n",
       "      <td>867</td>\n",
       "      <td>866</td>\n",
       "      <td>3761</td>\n",
       "    </tr>\n",
       "    <tr>\n",
       "      <th>1</th>\n",
       "      <td>2</td>\n",
       "      <td>2000-2001</td>\n",
       "      <td>Greater Mumbai</td>\n",
       "      <td>Mumbai(W)</td>\n",
       "      <td>80320.0</td>\n",
       "      <td>96297</td>\n",
       "      <td>15230</td>\n",
       "      <td>110397</td>\n",
       "      <td>5465</td>\n",
       "      <td>962</td>\n",
       "      <td>...</td>\n",
       "      <td>605</td>\n",
       "      <td>298</td>\n",
       "      <td>0</td>\n",
       "      <td>5637</td>\n",
       "      <td>117</td>\n",
       "      <td>5019</td>\n",
       "      <td>9517</td>\n",
       "      <td>370</td>\n",
       "      <td>127</td>\n",
       "      <td>445</td>\n",
       "    </tr>\n",
       "    <tr>\n",
       "      <th>2</th>\n",
       "      <td>3</td>\n",
       "      <td>2000-2001</td>\n",
       "      <td>Greater Mumbai</td>\n",
       "      <td>Mumbai€</td>\n",
       "      <td>39930.0</td>\n",
       "      <td>44932</td>\n",
       "      <td>9786</td>\n",
       "      <td>42945</td>\n",
       "      <td>4439</td>\n",
       "      <td>472</td>\n",
       "      <td>...</td>\n",
       "      <td>279</td>\n",
       "      <td>158</td>\n",
       "      <td>0</td>\n",
       "      <td>3811</td>\n",
       "      <td>697</td>\n",
       "      <td>4180</td>\n",
       "      <td>4004</td>\n",
       "      <td>124</td>\n",
       "      <td>170</td>\n",
       "      <td>577</td>\n",
       "    </tr>\n",
       "    <tr>\n",
       "      <th>3</th>\n",
       "      <td>4</td>\n",
       "      <td>2000-2001</td>\n",
       "      <td>Greater Mumbai</td>\n",
       "      <td>Borivali</td>\n",
       "      <td>0.0</td>\n",
       "      <td>0</td>\n",
       "      <td>0</td>\n",
       "      <td>0</td>\n",
       "      <td>0</td>\n",
       "      <td>0</td>\n",
       "      <td>...</td>\n",
       "      <td>0</td>\n",
       "      <td>0</td>\n",
       "      <td>0</td>\n",
       "      <td>0</td>\n",
       "      <td>0</td>\n",
       "      <td>0</td>\n",
       "      <td>0</td>\n",
       "      <td>0</td>\n",
       "      <td>0</td>\n",
       "      <td>0</td>\n",
       "    </tr>\n",
       "    <tr>\n",
       "      <th>4</th>\n",
       "      <td>5</td>\n",
       "      <td>2000-2001</td>\n",
       "      <td>Thane Region</td>\n",
       "      <td>Thane</td>\n",
       "      <td>130448.0</td>\n",
       "      <td>104028</td>\n",
       "      <td>9304</td>\n",
       "      <td>96933</td>\n",
       "      <td>23755</td>\n",
       "      <td>730</td>\n",
       "      <td>...</td>\n",
       "      <td>1030</td>\n",
       "      <td>206</td>\n",
       "      <td>0</td>\n",
       "      <td>42289</td>\n",
       "      <td>8159</td>\n",
       "      <td>21309</td>\n",
       "      <td>8228</td>\n",
       "      <td>1107</td>\n",
       "      <td>4352</td>\n",
       "      <td>740</td>\n",
       "    </tr>\n",
       "  </tbody>\n",
       "</table>\n",
       "<p>5 rows × 26 columns</p>\n",
       "</div>"
      ],
      "text/plain": [
       "   Sr No.       Year          Region   Category  Motor Cycles  Scooters  \\\n",
       "0       1  2000-2001  Greater Mumbai  Mumbai(C)       84289.0     62444   \n",
       "1       2  2000-2001  Greater Mumbai  Mumbai(W)       80320.0     96297   \n",
       "2       3  2000-2001  Greater Mumbai    Mumbai€       39930.0     44932   \n",
       "3       4  2000-2001  Greater Mumbai   Borivali           0.0         0   \n",
       "4       5  2000-2001    Thane Region      Thane      130448.0    104028   \n",
       "\n",
       "   Moped    Cars  Jeeps  Stn. Wagons  ...  Private Service Vehicles  \\\n",
       "0   7289  164758  12727         2705  ...                       829   \n",
       "1  15230  110397   5465          962  ...                       605   \n",
       "2   9786   42945   4439          472  ...                       279   \n",
       "3      0       0      0            0  ...                         0   \n",
       "4   9304   96933  23755          730  ...                      1030   \n",
       "\n",
       "   Ambulances  Articulated/Multi.  Trucks & Lorries  Tanker  \\\n",
       "0         902                   0              9022    1214   \n",
       "1         298                   0              5637     117   \n",
       "2         158                   0              3811     697   \n",
       "3           0                   0                 0       0   \n",
       "4         206                   0             42289    8159   \n",
       "\n",
       "   Delivery Van (4 wheelers)  Delivery Van (3 wheelers)  Tractors  Trailors  \\\n",
       "0                       9329                       4079       867       866   \n",
       "1                       5019                       9517       370       127   \n",
       "2                       4180                       4004       124       170   \n",
       "3                          0                          0         0         0   \n",
       "4                      21309                       8228      1107      4352   \n",
       "\n",
       "   Others  \n",
       "0    3761  \n",
       "1     445  \n",
       "2     577  \n",
       "3       0  \n",
       "4     740  \n",
       "\n",
       "[5 rows x 26 columns]"
      ]
     },
     "execution_count": 4,
     "metadata": {},
     "output_type": "execute_result"
    }
   ],
   "source": [
    "dataset.head(5)"
   ]
  },
  {
   "cell_type": "code",
   "execution_count": 14,
   "metadata": {
    "id": "SqCu_997Yij7"
   },
   "outputs": [],
   "source": [
    "X = dataset.iloc[:,4:].values"
   ]
  },
  {
   "cell_type": "code",
   "execution_count": 15,
   "metadata": {
    "colab": {
     "base_uri": "https://localhost:8080/"
    },
    "id": "pKng9oWtgABR",
    "outputId": "0312fb7c-4e51-4474-8d25-a748256645b2"
   },
   "outputs": [
    {
     "name": "stdout",
     "output_type": "stream",
     "text": [
      "[[8.42890e+04 6.24440e+04 7.28900e+03 ... 8.67000e+02 8.66000e+02\n",
      "  3.76100e+03]\n",
      " [8.03200e+04 9.62970e+04 1.52300e+04 ... 3.70000e+02 1.27000e+02\n",
      "  4.45000e+02]\n",
      " [3.99300e+04 4.49320e+04 9.78600e+03 ... 1.24000e+02 1.70000e+02\n",
      "  5.77000e+02]\n",
      " ...\n",
      " [2.72891e+05 9.61820e+04 5.82700e+04 ... 1.35760e+04 7.03400e+03\n",
      "  1.01600e+03]\n",
      " [1.67075e+05 3.52360e+04 1.96990e+04 ... 8.99900e+03 5.21200e+03\n",
      "  2.56000e+02]\n",
      " [1.36961e+05 4.41530e+04 2.06840e+04 ... 1.12640e+04 5.90000e+03\n",
      "  1.83000e+02]]\n"
     ]
    }
   ],
   "source": [
    "print(X)"
   ]
  },
  {
   "cell_type": "markdown",
   "metadata": {
    "id": "xQKNj7_1gHgD"
   },
   "source": [
    "## Using the elbow method to find the optimal number of clusters"
   ]
  },
  {
   "cell_type": "code",
   "execution_count": 16,
   "metadata": {
    "colab": {
     "base_uri": "https://localhost:8080/",
     "height": 849
    },
    "id": "R15S3zn1gBOz",
    "outputId": "47e51adc-5783-440c-f1f0-45b261aaa91a"
   },
   "outputs": [
    {
     "data": {
      "image/png": "[encoded data removed]",
      "text/plain": [
       "<Figure size 640x480 with 1 Axes>"
      ]
     },
     "metadata": {},
     "output_type": "display_data"
    }
   ],
   "source": [
    "from sklearn.cluster import KMeans\n",
    "wcss = []\n",
    "for i in range(1,11):\n",
    "    kmeans = KMeans(n_clusters = i, init = 'k-means++', random_state = 42)\n",
    "    kmeans.fit(X)\n",
    "    wcss.append(kmeans.inertia_)\n",
    "plt.plot(range(1,11), wcss)\n",
    "plt.title('The Elbow Method')\n",
    "plt.xlabel('Number of clusters')\n",
    "plt.ylabel('WCSS')\n",
    "plt.show()\n"
   ]
  },
  {
   "cell_type": "markdown",
   "metadata": {
    "id": "D0YWXZSigNpk"
   },
   "source": [
    "## Training the K-Means model on the dataset"
   ]
  },
  {
   "cell_type": "code",
   "execution_count": 19,
   "metadata": {
    "colab": {
     "base_uri": "https://localhost:8080/"
    },
    "id": "PiVu9Z0LhnZH",
    "outputId": "b98f34f4-d7e5-4c77-8f5b-38a305338f67"
   },
   "outputs": [],
   "source": [
    "kmeans = KMeans(n_clusters = 4, init = 'k-means++', random_state = 42)\n",
    "y_kmeans = kmeans.fit_predict(X)"
   ]
  },
  {
   "cell_type": "code",
   "execution_count": 20,
   "metadata": {},
   "outputs": [
    {
     "name": "stdout",
     "output_type": "stream",
     "text": [
      "[0 0 0 0 2 0 0 0 0 0 0 0 0 0 0 0 2 0 0 0 0 2 0 0 0 0 0 0 0 0 0 0 0 0 0 0 0\n",
      " 0 0 0 0 0 2 0 0 0 0 0 0 0 0 0 0 0 2 0 0 0 0 0 0 0 0 0 0 0 2 0 0 0 0 2 0 0\n",
      " 0 0 0 0 0 0 0 0 0 0 0 0 0 0 0 0 0 0 2 0 0 0 0 0 0 0 0 0 0 0 2 0 0 0 0 0 0\n",
      " 0 2 0 0 0 3 0 0 0 0 2 0 0 0 0 0 0 0 0 0 0 0 0 0 0 0 0 0 0 0 0 2 0 0 0 0 0\n",
      " 0 0 2 2 0 0 2 0 0 0 0 0 0 0 2 0 0 0 3 0 2 0 0 2 0 0 0 0 0 0 0 0 0 0 0 0 0\n",
      " 0 0 0 0 0 0 0 2 0 0 0 0 0 0 0 2 2 0 0 2 0 0 0 0 0 0 0 2 0 0 0 3 0 2 0 0 2\n",
      " 0 0 0 0 0 0 2 0 0 0 0 0 0 0 0 0 0 0 0 0 2 0 0 0 0 0 0 0 2 2 0 0 2 0 0 0 0\n",
      " 0 0 0 2 0 0 0 3 0 2 0 0 2 0 0 0 0 2 0 2 0 0 0 0 0 0 0 0 0 0 0 0 0 2 0 0 0\n",
      " 0 0 0 0 2 2 0 0 2 0 0 0 0 0 0 0 2 2 2 0 3 2 2 0 0 2 0 0 0 0 0 0 0 0 0 0 0\n",
      " 0 0 0 0 0 0 0 0 0 2 0 0 0 0 0 0 0 2 2 0 0 3 0 0 0 0 0 0 0 2 2 2 0 3 2 2 0\n",
      " 0 2 0 0 0 0 2 0 2 0 0 0 0 0 0 0 0 0 0 0 0 0 2 0 0 0 0 0 0 0 2 2 0 0 3 2 0\n",
      " 0 0 2 0 0 2 2 2 0 3 2 2 0 0 2 2 2 0 0 2 0 2 0 0 0 0 0 0 0 0 0 0 0 0 0 2 0\n",
      " 0 0 0 0 0 0 2 2 2 0 3 2 0 0 0 2 0 0 2 2 2 0 3 2 2 0 0 2 2 2 0 0 2 0 2 0 0\n",
      " 0 0 0 0 0 0 0 0 0 0 0 2 0 0 0 0 0 0 0 2 2 2 0 3 2 0 0 0 2 0 0 2 2 2 0 1 2\n",
      " 3 0 0 3 2 2 0 0 2 0 2 0 0 0 0 0 0 0 0 2 0 0 0 0 3 0 0 0 0 0 0 0 2 2 2 0 3\n",
      " 2 0 0 0 2 0 0 3 2 2 0 1 2 3 0 0 3 2 2 0 0 2 0 2 0 0 0 0 0 0 0 0 2 0 0 0 0\n",
      " 3 0 0 0 0 0 0 0 2 3 2 0 3 2 0 0 0 2 0 0 3 2 2 0 1 2 3 0 0 3 2 2 0 0 2 0 3\n",
      " 0 0 0 0 0 2 0 0 2 0 0 0 0 3 0 0 0 0 2 0 0 2 3 2 0 3 2 0 0 0 0 0 0 3 2 2 0\n",
      " 1 2 3 2 0 3 2 2 2 2 2 0 3 0 0 0 0 0 2 0 0 2 2 0 0 0 3 0 0 2 0 2 0 0 2 3 2\n",
      " 0 3 2 0 0 0 2 0 0 3 2 2 0 1 2 3 2 0 3 2 2 2 2 2 0 3 2 0 2 0 0 2 0 0 2 2 2\n",
      " 2 0 3 0 0 2 0 2 0 0 2 2 2 2 3 3 2 0 0 2 0 0 3 2 2 0 1 2 3 2 0 3 2 2 2 2 2\n",
      " 0 3 2 0 2 0 0 2 0 0 2 2 2 2 0 3 0 0 2 0 2 0 0 2 2 2 2 3 3 2 2 2 2 0 0 3 2\n",
      " 2 0 1 3 3 2 2 3 2 2 2 2 3 0 3 2 0 2 0 0 2 2 0 2 2 2 2 0 3 0 0 2 0 2 0 0 3\n",
      " 3 2 2 3 3 2 2 2 2 2 0 3 3 2 0 1 3 3 2 2 3 2 3 2 2 3 0 3 2 0 2 0 0 2 2 0 2\n",
      " 2 2 2 0 3 0 2 2 0 2 0 0]\n"
     ]
    }
   ],
   "source": [
    "print(y_kmeans)"
   ]
  }
 ],
 "metadata": {
  "colab": {
   "provenance": []
  },
  "kernelspec": {
   "display_name": "Python 3 (ipykernel)",
   "language": "python",
   "name": "python3"
  },
  "language_info": {
   "codemirror_mode": {
    "name": "ipython",
    "version": 3
   },
   "file_extension": ".py",
   "mimetype": "text/x-python",
   "name": "python",
   "nbconvert_exporter": "python",
   "pygments_lexer": "ipython3",
   "version": "3.12.3"
  }
 },
 "nbformat": 4,
 "nbformat_minor": 4
}
