{
  "cells": [
    {
      "cell_type": "markdown",
      "metadata": {
        "id": "0MRC0e0KhQ0S"
      },
      "source": [
        "# K-Nearest Neighbors (K-NN)"
      ]
    },
    {
      "cell_type": "markdown",
      "metadata": {
        "id": "LWd1UlMnhT2s"
      },
      "source": [
        "## Importing the libraries"
      ]
    },
    {
      "cell_type": "code",
      "execution_count": 1,
      "metadata": {
        "id": "YvGPUQaHhXfL"
      },
      "outputs": [],
      "source": [
        "import numpy as np\n",
        "import matplotlib.pyplot as plt\n",
        "import pandas as pd"
      ]
    },
    {
      "cell_type": "markdown",
      "metadata": {
        "id": "K1VMqkGvhc3-"
      },
      "source": [
        "## Importing the dataset"
      ]
    },
    {
      "cell_type": "code",
      "execution_count": 2,
      "metadata": {
        "id": "M52QDmyzhh9s"
      },
      "outputs": [],
      "source": [
        "dataset = pd.read_csv('Iris.csv')\n",
        "X = dataset.iloc[:, 1:-1].values\n",
        "y = dataset.iloc[:, -1].values"
      ]
    },
    {
      "cell_type": "markdown",
      "metadata": {
        "id": "YvxIPVyMhmKp"
      },
      "source": [
        "## Splitting the dataset into the Training set and Test set"
      ]
    },
    {
      "cell_type": "code",
      "execution_count": 3,
      "metadata": {
        "id": "AVzJWAXIhxoC"
      },
      "outputs": [],
      "source": [
        "from sklearn.model_selection import train_test_split\n",
        "X_train, X_test, y_train, y_test = train_test_split(X, y, test_size = 0.25, random_state = 0)"
      ]
    },
    {
      "cell_type": "code",
      "execution_count": 4,
      "metadata": {
        "colab": {
          "base_uri": "https://localhost:8080/"
        },
        "id": "P3nS3-6r1i2B",
        "outputId": "5513d349-3237-4540-8926-07a6566d51ab"
      },
      "outputs": [
        {
          "output_type": "stream",
          "name": "stdout",
          "text": [
            "[[5.9 3.  4.2 1.5]\n",
            " [5.8 2.6 4.  1.2]\n",
            " [6.8 3.  5.5 2.1]\n",
            " [4.7 3.2 1.3 0.2]\n",
            " [6.9 3.1 5.1 2.3]\n",
            " [5.  3.5 1.6 0.6]\n",
            " [5.4 3.7 1.5 0.2]\n",
            " [5.  2.  3.5 1. ]\n",
            " [6.5 3.  5.5 1.8]\n",
            " [6.7 3.3 5.7 2.5]\n",
            " [6.  2.2 5.  1.5]\n",
            " [6.7 2.5 5.8 1.8]\n",
            " [5.6 2.5 3.9 1.1]\n",
            " [7.7 3.  6.1 2.3]\n",
            " [6.3 3.3 4.7 1.6]\n",
            " [5.5 2.4 3.8 1.1]\n",
            " [6.3 2.7 4.9 1.8]\n",
            " [6.3 2.8 5.1 1.5]\n",
            " [4.9 2.5 4.5 1.7]\n",
            " [6.3 2.5 5.  1.9]\n",
            " [7.  3.2 4.7 1.4]\n",
            " [6.5 3.  5.2 2. ]\n",
            " [6.  3.4 4.5 1.6]\n",
            " [4.8 3.1 1.6 0.2]\n",
            " [5.8 2.7 5.1 1.9]\n",
            " [5.6 2.7 4.2 1.3]\n",
            " [5.6 2.9 3.6 1.3]\n",
            " [5.5 2.5 4.  1.3]\n",
            " [6.1 3.  4.6 1.4]\n",
            " [7.2 3.2 6.  1.8]\n",
            " [5.3 3.7 1.5 0.2]\n",
            " [4.3 3.  1.1 0.1]\n",
            " [6.4 2.7 5.3 1.9]\n",
            " [5.7 3.  4.2 1.2]\n",
            " [5.4 3.4 1.7 0.2]\n",
            " [5.7 4.4 1.5 0.4]\n",
            " [6.9 3.1 4.9 1.5]\n",
            " [4.6 3.1 1.5 0.2]\n",
            " [5.9 3.  5.1 1.8]\n",
            " [5.1 2.5 3.  1.1]\n",
            " [4.6 3.4 1.4 0.3]\n",
            " [6.2 2.2 4.5 1.5]\n",
            " [7.2 3.6 6.1 2.5]\n",
            " [5.7 2.9 4.2 1.3]\n",
            " [4.8 3.  1.4 0.1]\n",
            " [7.1 3.  5.9 2.1]\n",
            " [6.9 3.2 5.7 2.3]\n",
            " [6.5 3.  5.8 2.2]\n",
            " [6.4 2.8 5.6 2.1]\n",
            " [5.1 3.8 1.6 0.2]\n",
            " [4.8 3.4 1.6 0.2]\n",
            " [6.5 3.2 5.1 2. ]\n",
            " [6.7 3.3 5.7 2.1]\n",
            " [4.5 2.3 1.3 0.3]\n",
            " [6.2 3.4 5.4 2.3]\n",
            " [4.9 3.  1.4 0.2]\n",
            " [5.7 2.5 5.  2. ]\n",
            " [6.9 3.1 5.4 2.1]\n",
            " [4.4 3.2 1.3 0.2]\n",
            " [5.  3.6 1.4 0.2]\n",
            " [7.2 3.  5.8 1.6]\n",
            " [5.1 3.5 1.4 0.3]\n",
            " [4.4 3.  1.3 0.2]\n",
            " [5.4 3.9 1.7 0.4]\n",
            " [5.5 2.3 4.  1.3]\n",
            " [6.8 3.2 5.9 2.3]\n",
            " [7.6 3.  6.6 2.1]\n",
            " [5.1 3.5 1.4 0.2]\n",
            " [4.9 3.1 1.5 0.1]\n",
            " [5.2 3.4 1.4 0.2]\n",
            " [5.7 2.8 4.5 1.3]\n",
            " [6.6 3.  4.4 1.4]\n",
            " [5.  3.2 1.2 0.2]\n",
            " [5.1 3.3 1.7 0.5]\n",
            " [6.4 2.9 4.3 1.3]\n",
            " [5.4 3.4 1.5 0.4]\n",
            " [7.7 2.6 6.9 2.3]\n",
            " [4.9 2.4 3.3 1. ]\n",
            " [7.9 3.8 6.4 2. ]\n",
            " [6.7 3.1 4.4 1.4]\n",
            " [5.2 4.1 1.5 0.1]\n",
            " [6.  3.  4.8 1.8]\n",
            " [5.8 4.  1.2 0.2]\n",
            " [7.7 2.8 6.7 2. ]\n",
            " [5.1 3.8 1.5 0.3]\n",
            " [4.7 3.2 1.6 0.2]\n",
            " [7.4 2.8 6.1 1.9]\n",
            " [5.  3.3 1.4 0.2]\n",
            " [6.3 3.4 5.6 2.4]\n",
            " [5.7 2.8 4.1 1.3]\n",
            " [5.8 2.7 3.9 1.2]\n",
            " [5.7 2.6 3.5 1. ]\n",
            " [6.4 3.2 5.3 2.3]\n",
            " [6.7 3.  5.2 2.3]\n",
            " [6.3 2.5 4.9 1.5]\n",
            " [6.7 3.  5.  1.7]\n",
            " [5.  3.  1.6 0.2]\n",
            " [5.5 2.4 3.7 1. ]\n",
            " [6.7 3.1 5.6 2.4]\n",
            " [5.8 2.7 5.1 1.9]\n",
            " [5.1 3.4 1.5 0.2]\n",
            " [6.6 2.9 4.6 1.3]\n",
            " [5.6 3.  4.1 1.3]\n",
            " [5.9 3.2 4.8 1.8]\n",
            " [6.3 2.3 4.4 1.3]\n",
            " [5.5 3.5 1.3 0.2]\n",
            " [5.1 3.7 1.5 0.4]\n",
            " [4.9 3.1 1.5 0.1]\n",
            " [6.3 2.9 5.6 1.8]\n",
            " [5.8 2.7 4.1 1. ]\n",
            " [7.7 3.8 6.7 2.2]\n",
            " [4.6 3.2 1.4 0.2]]\n"
          ]
        }
      ],
      "source": [
        "print(X_train)"
      ]
    },
    {
      "cell_type": "code",
      "execution_count": 5,
      "metadata": {
        "colab": {
          "base_uri": "https://localhost:8080/"
        },
        "id": "8dpDLojm1mVG",
        "outputId": "9f8adfe9-2c36-4036-81f2-559b7902aeae"
      },
      "outputs": [
        {
          "output_type": "stream",
          "name": "stdout",
          "text": [
            "['Iris-versicolor' 'Iris-versicolor' 'Iris-virginica' 'Iris-setosa'\n",
            " 'Iris-virginica' 'Iris-setosa' 'Iris-setosa' 'Iris-versicolor'\n",
            " 'Iris-virginica' 'Iris-virginica' 'Iris-virginica' 'Iris-virginica'\n",
            " 'Iris-versicolor' 'Iris-virginica' 'Iris-versicolor' 'Iris-versicolor'\n",
            " 'Iris-virginica' 'Iris-virginica' 'Iris-virginica' 'Iris-virginica'\n",
            " 'Iris-versicolor' 'Iris-virginica' 'Iris-versicolor' 'Iris-setosa'\n",
            " 'Iris-virginica' 'Iris-versicolor' 'Iris-versicolor' 'Iris-versicolor'\n",
            " 'Iris-versicolor' 'Iris-virginica' 'Iris-setosa' 'Iris-setosa'\n",
            " 'Iris-virginica' 'Iris-versicolor' 'Iris-setosa' 'Iris-setosa'\n",
            " 'Iris-versicolor' 'Iris-setosa' 'Iris-virginica' 'Iris-versicolor'\n",
            " 'Iris-setosa' 'Iris-versicolor' 'Iris-virginica' 'Iris-versicolor'\n",
            " 'Iris-setosa' 'Iris-virginica' 'Iris-virginica' 'Iris-virginica'\n",
            " 'Iris-virginica' 'Iris-setosa' 'Iris-setosa' 'Iris-virginica'\n",
            " 'Iris-virginica' 'Iris-setosa' 'Iris-virginica' 'Iris-setosa'\n",
            " 'Iris-virginica' 'Iris-virginica' 'Iris-setosa' 'Iris-setosa'\n",
            " 'Iris-virginica' 'Iris-setosa' 'Iris-setosa' 'Iris-setosa'\n",
            " 'Iris-versicolor' 'Iris-virginica' 'Iris-virginica' 'Iris-setosa'\n",
            " 'Iris-setosa' 'Iris-setosa' 'Iris-versicolor' 'Iris-versicolor'\n",
            " 'Iris-setosa' 'Iris-setosa' 'Iris-versicolor' 'Iris-setosa'\n",
            " 'Iris-virginica' 'Iris-versicolor' 'Iris-virginica' 'Iris-versicolor'\n",
            " 'Iris-setosa' 'Iris-virginica' 'Iris-setosa' 'Iris-virginica'\n",
            " 'Iris-setosa' 'Iris-setosa' 'Iris-virginica' 'Iris-setosa'\n",
            " 'Iris-virginica' 'Iris-versicolor' 'Iris-versicolor' 'Iris-versicolor'\n",
            " 'Iris-virginica' 'Iris-virginica' 'Iris-versicolor' 'Iris-versicolor'\n",
            " 'Iris-setosa' 'Iris-versicolor' 'Iris-virginica' 'Iris-virginica'\n",
            " 'Iris-setosa' 'Iris-versicolor' 'Iris-versicolor' 'Iris-versicolor'\n",
            " 'Iris-versicolor' 'Iris-setosa' 'Iris-setosa' 'Iris-setosa'\n",
            " 'Iris-virginica' 'Iris-versicolor' 'Iris-virginica' 'Iris-setosa']\n"
          ]
        }
      ],
      "source": [
        "print(y_train)"
      ]
    },
    {
      "cell_type": "code",
      "execution_count": 6,
      "metadata": {
        "colab": {
          "base_uri": "https://localhost:8080/"
        },
        "id": "qbb7i0DH1qui",
        "outputId": "90f46e27-5c25-4744-aec8-fedd2d827c66"
      },
      "outputs": [
        {
          "output_type": "stream",
          "name": "stdout",
          "text": [
            "[[5.8 2.8 5.1 2.4]\n",
            " [6.  2.2 4.  1. ]\n",
            " [5.5 4.2 1.4 0.2]\n",
            " [7.3 2.9 6.3 1.8]\n",
            " [5.  3.4 1.5 0.2]\n",
            " [6.3 3.3 6.  2.5]\n",
            " [5.  3.5 1.3 0.3]\n",
            " [6.7 3.1 4.7 1.5]\n",
            " [6.8 2.8 4.8 1.4]\n",
            " [6.1 2.8 4.  1.3]\n",
            " [6.1 2.6 5.6 1.4]\n",
            " [6.4 3.2 4.5 1.5]\n",
            " [6.1 2.8 4.7 1.2]\n",
            " [6.5 2.8 4.6 1.5]\n",
            " [6.1 2.9 4.7 1.4]\n",
            " [4.9 3.1 1.5 0.1]\n",
            " [6.  2.9 4.5 1.5]\n",
            " [5.5 2.6 4.4 1.2]\n",
            " [4.8 3.  1.4 0.3]\n",
            " [5.4 3.9 1.3 0.4]\n",
            " [5.6 2.8 4.9 2. ]\n",
            " [5.6 3.  4.5 1.5]\n",
            " [4.8 3.4 1.9 0.2]\n",
            " [4.4 2.9 1.4 0.2]\n",
            " [6.2 2.8 4.8 1.8]\n",
            " [4.6 3.6 1.  0.2]\n",
            " [5.1 3.8 1.9 0.4]\n",
            " [6.2 2.9 4.3 1.3]\n",
            " [5.  2.3 3.3 1. ]\n",
            " [5.  3.4 1.6 0.4]\n",
            " [6.4 3.1 5.5 1.8]\n",
            " [5.4 3.  4.5 1.5]\n",
            " [5.2 3.5 1.5 0.2]\n",
            " [6.1 3.  4.9 1.8]\n",
            " [6.4 2.8 5.6 2.2]\n",
            " [5.2 2.7 3.9 1.4]\n",
            " [5.7 3.8 1.7 0.3]\n",
            " [6.  2.7 5.1 1.6]]\n"
          ]
        }
      ],
      "source": [
        "print(X_test)"
      ]
    },
    {
      "cell_type": "code",
      "execution_count": 7,
      "metadata": {
        "colab": {
          "base_uri": "https://localhost:8080/"
        },
        "id": "kj1hnFAR1s5w",
        "outputId": "6ac9aa29-03a0-44d1-a966-7b1dfd28f112"
      },
      "outputs": [
        {
          "output_type": "stream",
          "name": "stdout",
          "text": [
            "['Iris-virginica' 'Iris-versicolor' 'Iris-setosa' 'Iris-virginica'\n",
            " 'Iris-setosa' 'Iris-virginica' 'Iris-setosa' 'Iris-versicolor'\n",
            " 'Iris-versicolor' 'Iris-versicolor' 'Iris-virginica' 'Iris-versicolor'\n",
            " 'Iris-versicolor' 'Iris-versicolor' 'Iris-versicolor' 'Iris-setosa'\n",
            " 'Iris-versicolor' 'Iris-versicolor' 'Iris-setosa' 'Iris-setosa'\n",
            " 'Iris-virginica' 'Iris-versicolor' 'Iris-setosa' 'Iris-setosa'\n",
            " 'Iris-virginica' 'Iris-setosa' 'Iris-setosa' 'Iris-versicolor'\n",
            " 'Iris-versicolor' 'Iris-setosa' 'Iris-virginica' 'Iris-versicolor'\n",
            " 'Iris-setosa' 'Iris-virginica' 'Iris-virginica' 'Iris-versicolor'\n",
            " 'Iris-setosa' 'Iris-versicolor']\n"
          ]
        }
      ],
      "source": [
        "print(y_test)"
      ]
    },
    {
      "cell_type": "markdown",
      "metadata": {
        "id": "kW3c7UYih0hT"
      },
      "source": [
        "## Feature Scaling"
      ]
    },
    {
      "cell_type": "code",
      "execution_count": 8,
      "metadata": {
        "id": "9fQlDPKCh8sc"
      },
      "outputs": [],
      "source": [
        "from sklearn.preprocessing import StandardScaler\n",
        "sc = StandardScaler()\n",
        "X_train = sc.fit_transform(X_train)\n",
        "X_test = sc.transform(X_test)"
      ]
    },
    {
      "cell_type": "code",
      "execution_count": 9,
      "metadata": {
        "colab": {
          "base_uri": "https://localhost:8080/"
        },
        "id": "syrnD1Op2BSR",
        "outputId": "5465dbce-bad3-4143-9598-f00a2c837727"
      },
      "outputs": [
        {
          "output_type": "stream",
          "name": "stdout",
          "text": [
            "[[ 1.54399532e-02 -1.19254753e-01  2.25126850e-01  3.56381749e-01]\n",
            " [-9.98450310e-02 -1.04039491e+00  1.13559562e-01 -2.86480506e-02]\n",
            " [ 1.05300481e+00 -1.19254753e-01  9.50314227e-01  1.12644135e+00]\n",
            " [-1.36797986e+00  3.41315328e-01 -1.39259884e+00 -1.31208072e+00]\n",
            " [ 1.16828980e+00  1.11030287e-01  7.27179649e-01  1.38312788e+00]\n",
            " [-1.02212490e+00  1.03217045e+00 -1.22524790e+00 -7.98707650e-01]\n",
            " [-5.60984968e-01  1.49274053e+00 -1.28103155e+00 -1.31208072e+00]\n",
            " [-1.02212490e+00 -2.42210516e+00 -1.65358660e-01 -2.85334584e-01]\n",
            " [ 7.07149859e-01 -1.19254753e-01  9.50314227e-01  7.41411549e-01]\n",
            " [ 9.37719827e-01  5.71600368e-01  1.06188152e+00  1.63981441e+00]\n",
            " [ 1.30724937e-01 -1.96153508e+00  6.71396005e-01  3.56381749e-01]\n",
            " [ 9.37719827e-01 -1.27067995e+00  1.11766516e+00  7.41411549e-01]\n",
            " [-3.30414999e-01 -1.27067995e+00  5.77759173e-02 -1.56991317e-01]\n",
            " [ 2.09056967e+00 -1.19254753e-01  1.28501609e+00  1.38312788e+00]\n",
            " [ 4.76579890e-01  5.71600368e-01  5.04045072e-01  4.84725016e-01]\n",
            " [-4.45699984e-01 -1.50096499e+00  1.99227301e-03 -1.56991317e-01]\n",
            " [ 4.76579890e-01 -8.10109874e-01  6.15612361e-01  7.41411549e-01]\n",
            " [ 4.76579890e-01 -5.79824834e-01  7.27179649e-01  3.56381749e-01]\n",
            " [-1.13740989e+00 -1.27067995e+00  3.92477783e-01  6.13068282e-01]\n",
            " [ 4.76579890e-01 -1.27067995e+00  6.71396005e-01  8.69754815e-01]\n",
            " [ 1.28357478e+00  3.41315328e-01  5.04045072e-01  2.28038483e-01]\n",
            " [ 7.07149859e-01 -1.19254753e-01  7.82963294e-01  9.98098082e-01]\n",
            " [ 1.30724937e-01  8.01885408e-01  3.92477783e-01  4.84725016e-01]\n",
            " [-1.25269487e+00  1.11030287e-01 -1.22524790e+00 -1.31208072e+00]\n",
            " [-9.98450310e-02 -8.10109874e-01  7.27179649e-01  8.69754815e-01]\n",
            " [-3.30414999e-01 -8.10109874e-01  2.25126850e-01  9.96952160e-02]\n",
            " [-3.30414999e-01 -3.49539793e-01 -1.09575016e-01  9.96952160e-02]\n",
            " [-4.45699984e-01 -1.27067995e+00  1.13559562e-01  9.96952160e-02]\n",
            " [ 2.46009922e-01 -1.19254753e-01  4.48261428e-01  2.28038483e-01]\n",
            " [ 1.51414475e+00  3.41315328e-01  1.22923245e+00  7.41411549e-01]\n",
            " [-6.76269952e-01  1.49274053e+00 -1.28103155e+00 -1.31208072e+00]\n",
            " [-1.82911979e+00 -1.19254753e-01 -1.50416612e+00 -1.44042398e+00]\n",
            " [ 5.91864874e-01 -8.10109874e-01  8.38746938e-01  8.69754815e-01]\n",
            " [-2.15130015e-01 -1.19254753e-01  2.25126850e-01 -2.86480506e-02]\n",
            " [-5.60984968e-01  8.01885408e-01 -1.16946426e+00 -1.31208072e+00]\n",
            " [-2.15130015e-01  3.10473581e+00 -1.28103155e+00 -1.05539418e+00]\n",
            " [ 1.16828980e+00  1.11030287e-01  6.15612361e-01  3.56381749e-01]\n",
            " [-1.48326484e+00  1.11030287e-01 -1.28103155e+00 -1.31208072e+00]\n",
            " [ 1.54399532e-02 -1.19254753e-01  7.27179649e-01  7.41411549e-01]\n",
            " [-9.06839920e-01 -1.27067995e+00 -4.44276882e-01 -1.56991317e-01]\n",
            " [-1.48326484e+00  8.01885408e-01 -1.33681519e+00 -1.18373745e+00]\n",
            " [ 3.61294906e-01 -1.96153508e+00  3.92477783e-01  3.56381749e-01]\n",
            " [ 1.51414475e+00  1.26245549e+00  1.28501609e+00  1.63981441e+00]\n",
            " [-2.15130015e-01 -3.49539793e-01  2.25126850e-01  9.96952160e-02]\n",
            " [-1.25269487e+00 -1.19254753e-01 -1.33681519e+00 -1.44042398e+00]\n",
            " [ 1.39885976e+00 -1.19254753e-01  1.17344880e+00  1.12644135e+00]\n",
            " [ 1.16828980e+00  3.41315328e-01  1.06188152e+00  1.38312788e+00]\n",
            " [ 7.07149859e-01 -1.19254753e-01  1.11766516e+00  1.25478461e+00]\n",
            " [ 5.91864874e-01 -5.79824834e-01  1.00609787e+00  1.12644135e+00]\n",
            " [-9.06839920e-01  1.72302557e+00 -1.22524790e+00 -1.31208072e+00]\n",
            " [-1.25269487e+00  8.01885408e-01 -1.22524790e+00 -1.31208072e+00]\n",
            " [ 7.07149859e-01  3.41315328e-01  7.27179649e-01  9.98098082e-01]\n",
            " [ 9.37719827e-01  5.71600368e-01  1.06188152e+00  1.12644135e+00]\n",
            " [-1.59854983e+00 -1.73125004e+00 -1.39259884e+00 -1.18373745e+00]\n",
            " [ 3.61294906e-01  8.01885408e-01  8.94530582e-01  1.38312788e+00]\n",
            " [-1.13740989e+00 -1.19254753e-01 -1.33681519e+00 -1.31208072e+00]\n",
            " [-2.15130015e-01 -1.27067995e+00  6.71396005e-01  9.98098082e-01]\n",
            " [ 1.16828980e+00  1.11030287e-01  8.94530582e-01  1.12644135e+00]\n",
            " [-1.71383481e+00  3.41315328e-01 -1.39259884e+00 -1.31208072e+00]\n",
            " [-1.02212490e+00  1.26245549e+00 -1.33681519e+00 -1.31208072e+00]\n",
            " [ 1.51414475e+00 -1.19254753e-01  1.11766516e+00  4.84725016e-01]\n",
            " [-9.06839920e-01  1.03217045e+00 -1.33681519e+00 -1.18373745e+00]\n",
            " [-1.71383481e+00 -1.19254753e-01 -1.39259884e+00 -1.31208072e+00]\n",
            " [-5.60984968e-01  1.95331061e+00 -1.16946426e+00 -1.05539418e+00]\n",
            " [-4.45699984e-01 -1.73125004e+00  1.13559562e-01  9.96952160e-02]\n",
            " [ 1.05300481e+00  3.41315328e-01  1.17344880e+00  1.38312788e+00]\n",
            " [ 1.97528468e+00 -1.19254753e-01  1.56393431e+00  1.12644135e+00]\n",
            " [-9.06839920e-01  1.03217045e+00 -1.33681519e+00 -1.31208072e+00]\n",
            " [-1.13740989e+00  1.11030287e-01 -1.28103155e+00 -1.44042398e+00]\n",
            " [-7.91554936e-01  8.01885408e-01 -1.33681519e+00 -1.31208072e+00]\n",
            " [-2.15130015e-01 -5.79824834e-01  3.92477783e-01  9.96952160e-02]\n",
            " [ 8.22434843e-01 -1.19254753e-01  3.36694139e-01  2.28038483e-01]\n",
            " [-1.02212490e+00  3.41315328e-01 -1.44838248e+00 -1.31208072e+00]\n",
            " [-9.06839920e-01  5.71600368e-01 -1.16946426e+00 -9.27050916e-01]\n",
            " [ 5.91864874e-01 -3.49539793e-01  2.80910495e-01  9.96952160e-02]\n",
            " [-5.60984968e-01  8.01885408e-01 -1.28103155e+00 -1.05539418e+00]\n",
            " [ 2.09056967e+00 -1.04039491e+00  1.73128525e+00  1.38312788e+00]\n",
            " [-1.13740989e+00 -1.50096499e+00 -2.76925949e-01 -2.85334584e-01]\n",
            " [ 2.32113964e+00  1.72302557e+00  1.45236703e+00  9.98098082e-01]\n",
            " [ 9.37719827e-01  1.11030287e-01  3.36694139e-01  2.28038483e-01]\n",
            " [-7.91554936e-01  2.41388069e+00 -1.28103155e+00 -1.44042398e+00]\n",
            " [ 1.30724937e-01 -1.19254753e-01  5.59828716e-01  7.41411549e-01]\n",
            " [-9.98450310e-02  2.18359565e+00 -1.44838248e+00 -1.31208072e+00]\n",
            " [ 2.09056967e+00 -5.79824834e-01  1.61971796e+00  9.98098082e-01]\n",
            " [-9.06839920e-01  1.72302557e+00 -1.28103155e+00 -1.18373745e+00]\n",
            " [-1.36797986e+00  3.41315328e-01 -1.22524790e+00 -1.31208072e+00]\n",
            " [ 1.74471472e+00 -5.79824834e-01  1.28501609e+00  8.69754815e-01]\n",
            " [-1.02212490e+00  5.71600368e-01 -1.33681519e+00 -1.31208072e+00]\n",
            " [ 4.76579890e-01  8.01885408e-01  1.00609787e+00  1.51147115e+00]\n",
            " [-2.15130015e-01 -5.79824834e-01  1.69343206e-01  9.96952160e-02]\n",
            " [-9.98450310e-02 -8.10109874e-01  5.77759173e-02 -2.86480506e-02]\n",
            " [-2.15130015e-01 -1.04039491e+00 -1.65358660e-01 -2.85334584e-01]\n",
            " [ 5.91864874e-01  3.41315328e-01  8.38746938e-01  1.38312788e+00]\n",
            " [ 9.37719827e-01 -1.19254753e-01  7.82963294e-01  1.38312788e+00]\n",
            " [ 4.76579890e-01 -1.27067995e+00  6.15612361e-01  3.56381749e-01]\n",
            " [ 9.37719827e-01 -1.19254753e-01  6.71396005e-01  6.13068282e-01]\n",
            " [-1.02212490e+00 -1.19254753e-01 -1.22524790e+00 -1.31208072e+00]\n",
            " [-4.45699984e-01 -1.50096499e+00 -5.37913713e-02 -2.85334584e-01]\n",
            " [ 9.37719827e-01  1.11030287e-01  1.00609787e+00  1.51147115e+00]\n",
            " [-9.98450310e-02 -8.10109874e-01  7.27179649e-01  8.69754815e-01]\n",
            " [-9.06839920e-01  8.01885408e-01 -1.28103155e+00 -1.31208072e+00]\n",
            " [ 8.22434843e-01 -3.49539793e-01  4.48261428e-01  9.96952160e-02]\n",
            " [-3.30414999e-01 -1.19254753e-01  1.69343206e-01  9.96952160e-02]\n",
            " [ 1.54399532e-02  3.41315328e-01  5.59828716e-01  7.41411549e-01]\n",
            " [ 4.76579890e-01 -1.73125004e+00  3.36694139e-01  9.96952160e-02]\n",
            " [-4.45699984e-01  1.03217045e+00 -1.39259884e+00 -1.31208072e+00]\n",
            " [-9.06839920e-01  1.49274053e+00 -1.28103155e+00 -1.05539418e+00]\n",
            " [-1.13740989e+00  1.11030287e-01 -1.28103155e+00 -1.44042398e+00]\n",
            " [ 4.76579890e-01 -3.49539793e-01  1.00609787e+00  7.41411549e-01]\n",
            " [-9.98450310e-02 -8.10109874e-01  1.69343206e-01 -2.85334584e-01]\n",
            " [ 2.09056967e+00  1.72302557e+00  1.61971796e+00  1.25478461e+00]\n",
            " [-1.48326484e+00  3.41315328e-01 -1.33681519e+00 -1.31208072e+00]]\n"
          ]
        }
      ],
      "source": [
        "print(X_train)"
      ]
    },
    {
      "cell_type": "code",
      "execution_count": null,
      "metadata": {
        "colab": {
          "base_uri": "https://localhost:8080/",
          "height": 1000
        },
        "id": "JUd6iBRp2C3L",
        "outputId": "073a17d9-26cd-48e5-923b-0bdb74b5fb14"
      },
      "outputs": [
        {
          "name": "stdout",
          "output_type": "stream",
          "text": [
            "[[-0.80480212  0.50496393]\n",
            " [-0.01254409 -0.5677824 ]\n",
            " [-0.30964085  0.1570462 ]\n",
            " [-0.80480212  0.27301877]\n",
            " [-0.30964085 -0.5677824 ]\n",
            " [-1.10189888 -1.43757673]\n",
            " [-0.70576986 -1.58254245]\n",
            " [-0.21060859  2.15757314]\n",
            " [-1.99318916 -0.04590581]\n",
            " [ 0.8787462  -0.77073441]\n",
            " [-0.80480212 -0.59677555]\n",
            " [-1.00286662 -0.42281668]\n",
            " [-0.11157634 -0.42281668]\n",
            " [ 0.08648817  0.21503249]\n",
            " [-1.79512465  0.47597078]\n",
            " [-0.60673761  1.37475825]\n",
            " [-0.11157634  0.21503249]\n",
            " [-1.89415691  0.44697764]\n",
            " [ 1.67100423  1.75166912]\n",
            " [-0.30964085 -1.37959044]\n",
            " [-0.30964085 -0.65476184]\n",
            " [ 0.8787462   2.15757314]\n",
            " [ 0.28455268 -0.53878926]\n",
            " [ 0.8787462   1.02684052]\n",
            " [-1.49802789 -1.20563157]\n",
            " [ 1.07681071  2.07059371]\n",
            " [-1.00286662  0.50496393]\n",
            " [-0.90383437  0.30201192]\n",
            " [-0.11157634 -0.21986468]\n",
            " [-0.60673761  0.47597078]\n",
            " [-1.6960924   0.53395707]\n",
            " [-0.11157634  0.27301877]\n",
            " [ 1.86906873 -0.27785096]\n",
            " [-0.11157634 -0.48080297]\n",
            " [-1.39899564 -0.33583725]\n",
            " [-1.99318916 -0.50979612]\n",
            " [-1.59706014  0.33100506]\n",
            " [-0.4086731  -0.77073441]\n",
            " [-0.70576986 -1.03167271]\n",
            " [ 1.07681071 -0.97368642]\n",
            " [-1.10189888  0.53395707]\n",
            " [ 0.28455268 -0.50979612]\n",
            " [-1.10189888  0.41798449]\n",
            " [-0.30964085 -1.43757673]\n",
            " [ 0.48261718  1.22979253]\n",
            " [-1.10189888 -0.33583725]\n",
            " [-0.11157634  0.30201192]\n",
            " [ 1.37390747  0.59194336]\n",
            " [-1.20093113 -1.14764529]\n",
            " [ 1.07681071  0.47597078]\n",
            " [ 1.86906873  1.51972397]\n",
            " [-0.4086731  -1.29261101]\n",
            " [-0.30964085 -0.3648304 ]\n",
            " [-0.4086731   1.31677196]\n",
            " [ 2.06713324  0.53395707]\n",
            " [ 0.68068169 -1.089659  ]\n",
            " [-0.90383437  0.38899135]\n",
            " [-1.20093113  0.30201192]\n",
            " [ 1.07681071 -1.20563157]\n",
            " [-1.49802789 -1.43757673]\n",
            " [-0.60673761 -1.49556302]\n",
            " [ 2.1661655  -0.79972756]\n",
            " [-1.89415691  0.18603934]\n",
            " [-0.21060859  0.85288166]\n",
            " [-1.89415691 -1.26361786]\n",
            " [ 2.1661655   0.38899135]\n",
            " [-1.39899564  0.56295021]\n",
            " [-1.10189888 -0.33583725]\n",
            " [ 0.18552042 -0.65476184]\n",
            " [ 0.38358493  0.01208048]\n",
            " [-0.60673761  2.331532  ]\n",
            " [-0.30964085  0.21503249]\n",
            " [-1.59706014 -0.19087153]\n",
            " [ 0.68068169 -1.37959044]\n",
            " [-1.10189888  0.56295021]\n",
            " [-1.99318916  0.35999821]\n",
            " [ 0.38358493  0.27301877]\n",
            " [ 0.18552042 -0.27785096]\n",
            " [ 1.47293972 -1.03167271]\n",
            " [ 0.8787462   1.08482681]\n",
            " [ 1.96810099  2.15757314]\n",
            " [ 2.06713324  0.38899135]\n",
            " [-1.39899564 -0.42281668]\n",
            " [-1.20093113 -1.00267957]\n",
            " [ 1.96810099 -0.91570013]\n",
            " [ 0.38358493  0.30201192]\n",
            " [ 0.18552042  0.1570462 ]\n",
            " [ 2.06713324  1.75166912]\n",
            " [ 0.77971394 -0.8287207 ]\n",
            " [ 0.28455268 -0.27785096]\n",
            " [ 0.38358493 -0.16187839]\n",
            " [-0.11157634  2.21555943]\n",
            " [-1.49802789 -0.62576869]\n",
            " [-1.29996338 -1.06066585]\n",
            " [-1.39899564  0.41798449]\n",
            " [-1.10189888  0.76590222]\n",
            " [-1.49802789 -0.19087153]\n",
            " [ 0.97777845 -1.06066585]\n",
            " [ 0.97777845  0.59194336]\n",
            " [ 0.38358493  0.99784738]]\n"
          ]
        }
      ],
      "source": [
        "print(X_test)"
      ]
    },
    {
      "cell_type": "markdown",
      "metadata": {
        "id": "bb6jCOCQiAmP"
      },
      "source": [
        "## Training the K-NN model on the Training set"
      ]
    },
    {
      "cell_type": "code",
      "execution_count": 10,
      "metadata": {
        "colab": {
          "base_uri": "https://localhost:8080/",
          "height": 75
        },
        "id": "e0pFVAmciHQs",
        "outputId": "650417c0-ccb2-4839-a3a0-4922e1d2dea2"
      },
      "outputs": [
        {
          "output_type": "execute_result",
          "data": {
            "text/plain": [
              "KNeighborsClassifier()"
            ],
            "text/html": [
              "<style>#sk-container-id-1 {color: black;background-color: white;}#sk-container-id-1 pre{padding: 0;}#sk-container-id-1 div.sk-toggleable {background-color: white;}#sk-container-id-1 label.sk-toggleable__label {cursor: pointer;display: block;width: 100%;margin-bottom: 0;padding: 0.3em;box-sizing: border-box;text-align: center;}#sk-container-id-1 label.sk-toggleable__label-arrow:before {content: \"▸\";float: left;margin-right: 0.25em;color: #696969;}#sk-container-id-1 label.sk-toggleable__label-arrow:hover:before {color: black;}#sk-container-id-1 div.sk-estimator:hover label.sk-toggleable__label-arrow:before {color: black;}#sk-container-id-1 div.sk-toggleable__content {max-height: 0;max-width: 0;overflow: hidden;text-align: left;background-color: #f0f8ff;}#sk-container-id-1 div.sk-toggleable__content pre {margin: 0.2em;color: black;border-radius: 0.25em;background-color: #f0f8ff;}#sk-container-id-1 input.sk-toggleable__control:checked~div.sk-toggleable__content {max-height: 200px;max-width: 100%;overflow: auto;}#sk-container-id-1 input.sk-toggleable__control:checked~label.sk-toggleable__label-arrow:before {content: \"▾\";}#sk-container-id-1 div.sk-estimator input.sk-toggleable__control:checked~label.sk-toggleable__label {background-color: #d4ebff;}#sk-container-id-1 div.sk-label input.sk-toggleable__control:checked~label.sk-toggleable__label {background-color: #d4ebff;}#sk-container-id-1 input.sk-hidden--visually {border: 0;clip: rect(1px 1px 1px 1px);clip: rect(1px, 1px, 1px, 1px);height: 1px;margin: -1px;overflow: hidden;padding: 0;position: absolute;width: 1px;}#sk-container-id-1 div.sk-estimator {font-family: monospace;background-color: #f0f8ff;border: 1px dotted black;border-radius: 0.25em;box-sizing: border-box;margin-bottom: 0.5em;}#sk-container-id-1 div.sk-estimator:hover {background-color: #d4ebff;}#sk-container-id-1 div.sk-parallel-item::after {content: \"\";width: 100%;border-bottom: 1px solid gray;flex-grow: 1;}#sk-container-id-1 div.sk-label:hover label.sk-toggleable__label {background-color: #d4ebff;}#sk-container-id-1 div.sk-serial::before {content: \"\";position: absolute;border-left: 1px solid gray;box-sizing: border-box;top: 0;bottom: 0;left: 50%;z-index: 0;}#sk-container-id-1 div.sk-serial {display: flex;flex-direction: column;align-items: center;background-color: white;padding-right: 0.2em;padding-left: 0.2em;position: relative;}#sk-container-id-1 div.sk-item {position: relative;z-index: 1;}#sk-container-id-1 div.sk-parallel {display: flex;align-items: stretch;justify-content: center;background-color: white;position: relative;}#sk-container-id-1 div.sk-item::before, #sk-container-id-1 div.sk-parallel-item::before {content: \"\";position: absolute;border-left: 1px solid gray;box-sizing: border-box;top: 0;bottom: 0;left: 50%;z-index: -1;}#sk-container-id-1 div.sk-parallel-item {display: flex;flex-direction: column;z-index: 1;position: relative;background-color: white;}#sk-container-id-1 div.sk-parallel-item:first-child::after {align-self: flex-end;width: 50%;}#sk-container-id-1 div.sk-parallel-item:last-child::after {align-self: flex-start;width: 50%;}#sk-container-id-1 div.sk-parallel-item:only-child::after {width: 0;}#sk-container-id-1 div.sk-dashed-wrapped {border: 1px dashed gray;margin: 0 0.4em 0.5em 0.4em;box-sizing: border-box;padding-bottom: 0.4em;background-color: white;}#sk-container-id-1 div.sk-label label {font-family: monospace;font-weight: bold;display: inline-block;line-height: 1.2em;}#sk-container-id-1 div.sk-label-container {text-align: center;}#sk-container-id-1 div.sk-container {/* jupyter's `normalize.less` sets `[hidden] { display: none; }` but bootstrap.min.css set `[hidden] { display: none !important; }` so we also need the `!important` here to be able to override the default hidden behavior on the sphinx rendered scikit-learn.org. See: https://github.com/scikit-learn/scikit-learn/issues/21755 */display: inline-block !important;position: relative;}#sk-container-id-1 div.sk-text-repr-fallback {display: none;}</style><div id=\"sk-container-id-1\" class=\"sk-top-container\"><div class=\"sk-text-repr-fallback\"><pre>KNeighborsClassifier()</pre><b>In a Jupyter environment, please rerun this cell to show the HTML representation or trust the notebook. <br />On GitHub, the HTML representation is unable to render, please try loading this page with nbviewer.org.</b></div><div class=\"sk-container\" hidden><div class=\"sk-item\"><div class=\"sk-estimator sk-toggleable\"><input class=\"sk-toggleable__control sk-hidden--visually\" id=\"sk-estimator-id-1\" type=\"checkbox\" checked><label for=\"sk-estimator-id-1\" class=\"sk-toggleable__label sk-toggleable__label-arrow\">KNeighborsClassifier</label><div class=\"sk-toggleable__content\"><pre>KNeighborsClassifier()</pre></div></div></div></div></div>"
            ]
          },
          "metadata": {},
          "execution_count": 10
        }
      ],
      "source": [
        "from sklearn.neighbors import KNeighborsClassifier\n",
        "classifier = KNeighborsClassifier(n_neighbors = 5, metric = 'minkowski', p = 2)\n",
        "classifier.fit(X_train, y_train)"
      ]
    },
    {
      "cell_type": "markdown",
      "metadata": {
        "id": "yyxW5b395mR2"
      },
      "source": [
        "## Predicting a new result"
      ]
    },
    {
      "cell_type": "code",
      "execution_count": 11,
      "metadata": {
        "colab": {
          "base_uri": "https://localhost:8080/"
        },
        "id": "f8YOXsQy58rP",
        "outputId": "6b16a340-f2a0-4b31-8ec5-40d067cc6a02"
      },
      "outputs": [
        {
          "output_type": "stream",
          "name": "stdout",
          "text": [
            "['Iris-setosa']\n"
          ]
        }
      ],
      "source": [
        "print(classifier.predict(sc.transform([[5.1,3.5,1.4,0.2]])))"
      ]
    },
    {
      "cell_type": "markdown",
      "metadata": {
        "id": "vKYVQH-l5NpE"
      },
      "source": [
        "## Predicting the Test set results"
      ]
    },
    {
      "cell_type": "code",
      "execution_count": 12,
      "metadata": {
        "colab": {
          "base_uri": "https://localhost:8080/"
        },
        "id": "p6VMTb2O4hwM",
        "outputId": "bd9b48b3-4911-42c4-c09b-ff621abab5d9"
      },
      "outputs": [
        {
          "output_type": "stream",
          "name": "stdout",
          "text": [
            "[['Iris-virginica' 'Iris-virginica']\n",
            " ['Iris-versicolor' 'Iris-versicolor']\n",
            " ['Iris-setosa' 'Iris-setosa']\n",
            " ['Iris-virginica' 'Iris-virginica']\n",
            " ['Iris-setosa' 'Iris-setosa']\n",
            " ['Iris-virginica' 'Iris-virginica']\n",
            " ['Iris-setosa' 'Iris-setosa']\n",
            " ['Iris-versicolor' 'Iris-versicolor']\n",
            " ['Iris-versicolor' 'Iris-versicolor']\n",
            " ['Iris-versicolor' 'Iris-versicolor']\n",
            " ['Iris-virginica' 'Iris-virginica']\n",
            " ['Iris-versicolor' 'Iris-versicolor']\n",
            " ['Iris-versicolor' 'Iris-versicolor']\n",
            " ['Iris-versicolor' 'Iris-versicolor']\n",
            " ['Iris-versicolor' 'Iris-versicolor']\n",
            " ['Iris-setosa' 'Iris-setosa']\n",
            " ['Iris-versicolor' 'Iris-versicolor']\n",
            " ['Iris-versicolor' 'Iris-versicolor']\n",
            " ['Iris-setosa' 'Iris-setosa']\n",
            " ['Iris-setosa' 'Iris-setosa']\n",
            " ['Iris-virginica' 'Iris-virginica']\n",
            " ['Iris-versicolor' 'Iris-versicolor']\n",
            " ['Iris-setosa' 'Iris-setosa']\n",
            " ['Iris-setosa' 'Iris-setosa']\n",
            " ['Iris-virginica' 'Iris-virginica']\n",
            " ['Iris-setosa' 'Iris-setosa']\n",
            " ['Iris-setosa' 'Iris-setosa']\n",
            " ['Iris-versicolor' 'Iris-versicolor']\n",
            " ['Iris-versicolor' 'Iris-versicolor']\n",
            " ['Iris-setosa' 'Iris-setosa']\n",
            " ['Iris-virginica' 'Iris-virginica']\n",
            " ['Iris-versicolor' 'Iris-versicolor']\n",
            " ['Iris-setosa' 'Iris-setosa']\n",
            " ['Iris-virginica' 'Iris-virginica']\n",
            " ['Iris-virginica' 'Iris-virginica']\n",
            " ['Iris-versicolor' 'Iris-versicolor']\n",
            " ['Iris-setosa' 'Iris-setosa']\n",
            " ['Iris-virginica' 'Iris-versicolor']]\n"
          ]
        }
      ],
      "source": [
        "y_pred = classifier.predict(X_test)\n",
        "print(np.concatenate((y_pred.reshape(len(y_pred),1), y_test.reshape(len(y_test),1)),1))"
      ]
    },
    {
      "cell_type": "markdown",
      "metadata": {
        "id": "h4Hwj34ziWQW"
      },
      "source": [
        "## Making the Confusion Matrix"
      ]
    },
    {
      "cell_type": "code",
      "execution_count": 16,
      "metadata": {
        "colab": {
          "base_uri": "https://localhost:8080/"
        },
        "id": "D6bpZwUiiXic",
        "outputId": "1143e684-ac05-4cde-e50d-9eb17753279e"
      },
      "outputs": [
        {
          "output_type": "stream",
          "name": "stdout",
          "text": [
            "[[13  0  0]\n",
            " [ 0 15  1]\n",
            " [ 0  0  9]]\n"
          ]
        },
        {
          "output_type": "execute_result",
          "data": {
            "text/plain": [
              "0.9736842105263158"
            ]
          },
          "metadata": {},
          "execution_count": 16
        }
      ],
      "source": [
        "from sklearn.metrics import confusion_matrix, accuracy_score\n",
        "cm = confusion_matrix(y_test, y_pred)\n",
        "print(cm)\n",
        "accuracy_score(y_test, y_pred)"
      ]
    },
    {
      "cell_type": "markdown",
      "source": [
        "## Computing the accuracy with k-Fold Cross Validation"
      ],
      "metadata": {
        "id": "LNEmfF2WRAMC"
      }
    },
    {
      "cell_type": "code",
      "source": [
        "from sklearn.model_selection import cross_val_score\n",
        "accuracies = cross_val_score(estimator=classifier,X = X_train,y=y_train, cv = 10)\n",
        "print(\"Accuracy: {:.2f} %\".format(accuracies.mean()*100))\n",
        "print(\"Standard Deviation: {:.2f} %\".format(accuracies.std()*100))"
      ],
      "metadata": {
        "colab": {
          "base_uri": "https://localhost:8080/"
        },
        "id": "mTvdn-MSRAia",
        "outputId": "0547b963-5acf-4941-d4ba-d8d7aef611cb"
      },
      "execution_count": 17,
      "outputs": [
        {
          "output_type": "stream",
          "name": "stdout",
          "text": [
            "Accuracy: 95.53 %\n",
            "Standard Deviation: 6.05 %\n"
          ]
        }
      ]
    }
  ],
  "metadata": {
    "colab": {
      "machine_shape": "hm",
      "provenance": [],
      "toc_visible": true
    },
    "kernelspec": {
      "display_name": "Python 3 (ipykernel)",
      "language": "python",
      "name": "python3"
    },
    "language_info": {
      "codemirror_mode": {
        "name": "ipython",
        "version": 3
      },
      "file_extension": ".py",
      "mimetype": "text/x-python",
      "name": "python",
      "nbconvert_exporter": "python",
      "pygments_lexer": "ipython3",
      "version": "3.12.3"
    }
  },
  "nbformat": 4,
  "nbformat_minor": 0
}